{
 "cells": [
  {
   "cell_type": "code",
   "execution_count": 1,
   "id": "a9f73df4-3e99-4108-b8aa-968fca95fbaf",
   "metadata": {},
   "outputs": [],
   "source": [
    "import pandas as pd\n",
    "from sklearn.model_selection import train_test_split\n",
    "\n",
    "import random\n",
    "import xgboost as xgb\n",
    "import lightgbm as lgb\n",
    "from catboost import CatBoostClassifier\n",
    "from sklearn.utils import class_weight\n",
    "from sklearn.metrics import roc_auc_score\n",
    "from sklearn.utils import resample"
   ]
  },
  {
   "cell_type": "code",
   "execution_count": 2,
   "id": "47e9614d-0dc8-4267-adfb-a3fb932f7165",
   "metadata": {},
   "outputs": [
    {
     "data": {
      "text/plain": [
       "(3000000, 316)"
      ]
     },
     "execution_count": 2,
     "metadata": {},
     "output_type": "execute_result"
    }
   ],
   "source": [
    "df = pd.read_csv('data/df_tuned.csv')\n",
    "df.shape"
   ]
  },
  {
   "cell_type": "code",
   "execution_count": 3,
   "id": "ff7e9f71-ad41-4823-8c96-55fb810ed54e",
   "metadata": {},
   "outputs": [],
   "source": [
    "df = df.drop(['id'], axis=1)"
   ]
  },
  {
   "cell_type": "code",
   "execution_count": 4,
   "id": "025c4645-5d99-4384-bb2e-354c860a6552",
   "metadata": {},
   "outputs": [],
   "source": [
    "# Преобразуем все колонки, кроме новых фичей, в которых нецелочисленные значения, в int8\n",
    "rate_cols = ['no_delays_rate',\n",
    " 'no_delays',\n",
    " 'no_delays_over_530',\n",
    " 'is_zero_util_rate',\n",
    " 'is_zero_over2limit_rate',\n",
    " 'is_zero_maxover2limit_rate',\n",
    " 'pclose_flag_rate',\n",
    " 'fclose_flag_rate',\n",
    " 'is_zero_loans5_rate',\n",
    " 'is_zero_loans530_rate',\n",
    " 'is_zero_loans3060_rate',\n",
    " 'is_zero_loans6090_rate',\n",
    " 'is_zero_loans90_rate',             \n",
    " 'enc_paym_10_3_minus_is_zero_loans530',\n",
    " 'is_zero_loans530_minus_enc_paym_21_3',\n",
    " 'pre_maxover2limit_infrequent_sklearn_plus_enc_paym_3_3_rate',\n",
    " 'enc_paym_17_infrequent_sklearn_plus_enc_paym_4_3_rate',\n",
    " 'enc_paym_13_infrequent_sklearn_plus_enc_paym_4_3_rate',\n",
    " 'enc_paym_4_3_plus_enc_paym_1_1_rate',\n",
    " 'enc_paym_4_3_plus_enc_paym_12_1_rate',\n",
    " 'enc_paym_4_3_plus_pclose_flag_rate_rate',\n",
    " 'enc_paym_1_infrequent_sklearn_plus_enc_paym_6_3_rate',\n",
    " 'fclose_flag_rate_plus_enc_paym_4_3_rate',\n",
    " 'pre_util_6_plus_enc_loans_credit_type_5_rate',\n",
    " 'enc_paym_17_infrequent_sklearn_minus_enc_paym_4_3_rate',\n",
    " 'enc_paym_9_3_minus_pre_maxover2limit_17_rate',\n",
    " 'enc_paym_17_3_minus_is_zero_loans5_rate',\n",
    " 'pre_util_5_minus_enc_paym_5_3_rate',\n",
    " 'pre_util_4_plus_enc_paym_10_3_minus_is_zero_loans530_rate',\n",
    " 'enc_paym_10_3_minus_is_zero_loans530_plus_pre_util_5_rate',\n",
    " 'fclose_flag_rate_plus_enc_paym_10_3_minus_is_zero_loans530_rate',\n",
    " 'enc_paym_0_1_plus_enc_paym_1_infrequent_sklearn_plus_enc_paym_6_3_rate_rate',\n",
    " 'enc_paym_10_3_minus_is_zero_loans530_plus_pre_maxover2limit_infrequent_sklearn_plus_enc_paym_3_3_rate_rate',\n",
    " 'is_zero_loans530_minus_enc_paym_21_3_plus_pre_loans_credit_limit_2_rate',\n",
    " 'enc_paym_4_3_plus_enc_paym_12_1_rate_plus_enc_paym_0_1_rate',\n",
    " 'enc_paym_0_1_minus_is_zero_loans530_minus_enc_paym_21_3_rate',\n",
    " 'enc_paym_10_3_minus_is_zero_loans530_minus_pre_util_5_rate',\n",
    " 'enc_paym_10_3_minus_is_zero_loans530_minus_pre_util_4_rate',\n",
    " 'is_zero_loans530_minus_enc_paym_21_3_minus_fclose_flag_rate_rate',\n",
    " 'pre_util_5_minus_enc_paym_5_3_rate_minus_enc_loans_credit_type_5_rate']\n",
    "\n",
    "df_sep = df[rate_cols]\n",
    "df=df.drop(rate_cols, axis = 1)\n",
    "df=df.astype('int8')\n",
    "df[rate_cols] = df_sep"
   ]
  },
  {
   "cell_type": "code",
   "execution_count": 5,
   "id": "3252240d-d54b-4f85-9771-93bb5e41a264",
   "metadata": {},
   "outputs": [],
   "source": [
    "df_train, df_test = train_test_split(df, stratify=df['flag'], test_size=0.2, random_state=42)\n",
    "\n",
    "X_train, y_train = df_train.drop('flag', axis = 1), df_train['flag']\n",
    "X_test, y_test =  df_test.drop('flag', axis = 1), df_test['flag']"
   ]
  },
  {
   "cell_type": "code",
   "execution_count": 9,
   "id": "8feb553a-0ed8-4790-9d82-3fb65c725b7b",
   "metadata": {},
   "outputs": [
    {
     "name": "stdout",
     "output_type": "stream",
     "text": [
      "Размер тренировочного датасета (2400000, 315)\n",
      "Размер тестовой выборки (600000, 315)\n"
     ]
    }
   ],
   "source": [
    "print('Размер тренировочного датасета', df_train.shape)\n",
    "print('Размер тестовой выборки', df_test.shape)"
   ]
  },
  {
   "cell_type": "markdown",
   "id": "f2480415-2214-461d-8a9d-2a3a679f3e87",
   "metadata": {},
   "source": [
    "**Обучение**\n",
    "\n",
    "Обучим три вида классификаторов: XGBClassifier, LGBMClassifier, CatBoostClassifier\n",
    "1) Сначала с дефолтными параметрами\n",
    "2) Затем попробуем балансировку классов\n",
    "3) Затем подберем параметры и обучим по 2 сетки с лучшими параметрами\n",
    "4) Затем попробуем downsampling\n",
    "5) Соберем результаты полученных сетей в один датасет и возьмем среднее"
   ]
  },
  {
   "cell_type": "code",
   "execution_count": 9,
   "id": "6050b746-ece7-4b4c-b4dc-0910588bf9dd",
   "metadata": {},
   "outputs": [
    {
     "name": "stdout",
     "output_type": "stream",
     "text": [
      "Train 0.789461164701711\n",
      "Test 0.7543490142883822\n"
     ]
    }
   ],
   "source": [
    "xgbc = xgb.XGBClassifier()\n",
    "xgbc.fit(X_train, y_train)\n",
    "print('Train', roc_auc_score(y_train, xgbc.predict_proba(X_train)[:, 1]))\n",
    "print('Test', roc_auc_score(y_test, xgbc.predict_proba(X_test)[:, 1]))"
   ]
  },
  {
   "cell_type": "code",
   "execution_count": 11,
   "id": "35f1e12d-223e-4e25-bf09-04a5ca8781a5",
   "metadata": {},
   "outputs": [
    {
     "name": "stdout",
     "output_type": "stream",
     "text": [
      "Train 0.7648197933301526\n",
      "Test 0.7539722388600716\n"
     ]
    }
   ],
   "source": [
    "lgbm = lgb.LGBMClassifier(verbosity= -1)\n",
    "lgbm.fit(X_train, y_train)\n",
    "print('Train', roc_auc_score(y_train, lgbm.predict_proba(X_train)[:, 1]))\n",
    "print('Test', roc_auc_score(y_test, lgbm.predict_proba(X_test)[:, 1]))"
   ]
  },
  {
   "cell_type": "code",
   "execution_count": 13,
   "id": "f3dd5154-5912-4c2f-9a72-63044132aa41",
   "metadata": {},
   "outputs": [
    {
     "name": "stdout",
     "output_type": "stream",
     "text": [
      "Train 0.789179134365892\n",
      "Test 0.7569423092732506\n"
     ]
    }
   ],
   "source": [
    "catb = CatBoostClassifier(random_state=42, verbose = 0)\n",
    "catb.fit(X_train, y_train)\n",
    "print('Train', roc_auc_score(y_train, catb.predict_proba(X_train)[:, 1]))\n",
    "print('Test', roc_auc_score(y_test, catb.predict_proba(X_test)[:, 1]))"
   ]
  },
  {
   "cell_type": "code",
   "execution_count": 15,
   "id": "402891bb-09ab-4fd1-801e-baa4df86406a",
   "metadata": {},
   "outputs": [
    {
     "name": "stdout",
     "output_type": "stream",
     "text": [
      "Train 0.7954344447897019\n",
      "Test 0.7523089057586027\n"
     ]
    }
   ],
   "source": [
    "# С балансировкой\n",
    "classes_weights = class_weight.compute_sample_weight(\n",
    "    class_weight='balanced',\n",
    "    y=y_train\n",
    ")\n",
    "xgbc_w = xgb.XGBClassifier()\n",
    "xgbc_w.fit(X_train, y_train, sample_weight=classes_weights)\n",
    "print('Train', roc_auc_score(y_train, xgbc_w.predict_proba(X_train)[:, 1]))\n",
    "print('Test', roc_auc_score(y_test, xgbc_w.predict_proba(X_test)[:, 1]))"
   ]
  },
  {
   "cell_type": "code",
   "execution_count": 17,
   "id": "a797dba8-e4a6-4481-a946-7235e6fb4cd4",
   "metadata": {},
   "outputs": [
    {
     "name": "stdout",
     "output_type": "stream",
     "text": [
      "Train 0.764702649126794\n",
      "Test 0.7545980570946549\n"
     ]
    }
   ],
   "source": [
    "# lgbm с балансировкой\n",
    "lgbm_bal = lgb.LGBMClassifier(verbosity= -1, class_weight = 'balanced')\n",
    "lgbm_bal.fit(X_train, y_train)\n",
    "print('Train', roc_auc_score(y_train, lgbm_bal.predict_proba(X_train)[:, 1]))\n",
    "print('Test', roc_auc_score(y_test, lgbm_bal.predict_proba(X_test)[:, 1]))"
   ]
  },
  {
   "cell_type": "code",
   "execution_count": 19,
   "id": "a19f9808-1a71-4b94-ad5a-1ed34341f5c2",
   "metadata": {},
   "outputs": [
    {
     "name": "stdout",
     "output_type": "stream",
     "text": [
      "learning_rate:0.01, n_estimators: 2000, max_depth: 9\n",
      "Test number 0 [0.757256836926527, 0.778898935420988]\n",
      "learning_rate:0.01, n_estimators: 2000, max_depth: 15\n",
      "Test number 1 [0.7572847996372658, 0.7809994844326763]\n",
      "learning_rate:0.01, n_estimators: 2000, max_depth: 12\n",
      "Test number 2 [0.7573539776985168, 0.7804076362505721]\n",
      "learning_rate:0.05, n_estimators: 2000, max_depth: 12\n",
      "Test number 3 [0.7596164454216148, 0.8386206996394783]\n",
      "learning_rate:0.01, n_estimators: 2000, max_depth: 9\n",
      "Test number 4 [0.757256836926527, 0.778898935420988]\n",
      "learning_rate:0.03, n_estimators: 2000, max_depth: 9\n",
      "Test number 5 [0.7595800628902072, 0.8117320738038477]\n",
      "learning_rate:0.01, n_estimators: 3000, max_depth: 12\n",
      "Test number 6 [0.7585750888781233, 0.791483612816729]\n",
      "learning_rate:0.05, n_estimators: 2000, max_depth: 15\n",
      "Test number 7 [0.7594045615910867, 0.8405407459169181]\n",
      "learning_rate:0.03, n_estimators: 3000, max_depth: 15\n",
      "Test number 8 [0.7604453366231851, 0.8367237780580887]\n",
      "learning_rate:0.05, n_estimators: 2000, max_depth: 12\n",
      "Test number 9 [0.7596164454216148, 0.8386206996394783]\n",
      "learning_rate:0.05, n_estimators: 2000, max_depth: 15\n",
      "Test number 10 [0.7594045615910867, 0.8405407459169181]\n",
      "learning_rate:0.01, n_estimators: 3000, max_depth: 12\n",
      "Test number 11 [0.7585750888781233, 0.791483612816729]\n",
      "learning_rate:0.03, n_estimators: 3000, max_depth: 15\n",
      "Test number 12 [0.7604453366231851, 0.8367237780580887]\n",
      "learning_rate:0.01, n_estimators: 3000, max_depth: 12\n",
      "Test number 13 [0.7585750888781233, 0.791483612816729]\n",
      "learning_rate:0.03, n_estimators: 3000, max_depth: 12\n",
      "Test number 14 [0.7604433675285278, 0.8350764351305816]\n",
      "learning_rate:0.05, n_estimators: 3000, max_depth: 12\n",
      "Test number 15 [0.7597547362417834, 0.8629064311477785]\n",
      "learning_rate:0.05, n_estimators: 3000, max_depth: 12\n",
      "Test number 16 [0.7597547362417834, 0.8629064311477785]\n",
      "learning_rate:0.03, n_estimators: 3000, max_depth: 15\n",
      "Test number 17 [0.7604453366231851, 0.8367237780580887]\n",
      "learning_rate:0.03, n_estimators: 2000, max_depth: 15\n",
      "Test number 18 [0.75989390383405, 0.817665224643889]\n",
      "learning_rate:0.05, n_estimators: 3000, max_depth: 9\n",
      "Test number 19 [0.7594037646104039, 0.8560338617806447]\n",
      "Лучший результат: 0.7604453366231851\n"
     ]
    }
   ],
   "source": [
    "# # подбор параметров без балансировки\n",
    "import random\n",
    "params =[\n",
    "    [0.01, 0.03, 0.05],\n",
    "    [2000, 3000],\n",
    "    [9,12,15]\n",
    "]\n",
    "num_iterations = 20\n",
    "param_nums=[]\n",
    "roc_aucs=[]\n",
    "for i in range(num_iterations):\n",
    "    learning_rate = random.choice(params[0])\n",
    "    n_estimators = random.choice(params[1])\n",
    "    max_depth = random.choice(params[2])\n",
    "    \n",
    "    lgbm_search = lgb.LGBMClassifier(learning_rate = learning_rate,\n",
    "                         n_estimators = n_estimators,\n",
    "                         max_depth = max_depth,\n",
    "                         verbosity= -1\n",
    "                        )\n",
    "\n",
    "    lgbm_search.fit(X_train, y_train)\n",
    "    print(f'learning_rate:{learning_rate}, n_estimators: {n_estimators}, max_depth: {max_depth}')\n",
    "    res = [(roc_auc_score(y_test, lgbm_search.predict_proba(X_test)[:, 1])), (roc_auc_score(y_train, lgbm_search.predict_proba(X_train)[:, 1]))]\n",
    "    print('Test number', i, res)\n",
    "    roc_aucs.append(res)\n",
    "    param_nums.append([learning_rate, n_estimators,max_depth,res])\n",
    "    \n",
    "print(f'Лучший результат: {max(b[0] for b in roc_aucs)}')"
   ]
  },
  {
   "cell_type": "code",
   "execution_count": 21,
   "id": "4e830e6f-34b0-410c-a4a6-9495d01d40ce",
   "metadata": {},
   "outputs": [
    {
     "name": "stdout",
     "output_type": "stream",
     "text": [
      "Train 0.8367237780580887\n",
      "Test 0.7604453366231851\n"
     ]
    }
   ],
   "source": [
    "#learning_rate:0.03, n_estimators: 3000, max_depth: 15\n",
    "lgbm_params = lgb.LGBMClassifier(learning_rate=0.03, n_estimators= 3000, max_depth= 15, verbosity = -1)\n",
    "lgbm_params.fit(X_train, y_train)\n",
    "print('Train', roc_auc_score(y_train, lgbm_params.predict_proba(X_train)[:, 1]))\n",
    "print('Test', roc_auc_score(y_test, lgbm_params.predict_proba(X_test)[:, 1]))"
   ]
  },
  {
   "cell_type": "code",
   "execution_count": 23,
   "id": "f41012d7-ac1d-4f52-8ba6-a80d0535251c",
   "metadata": {},
   "outputs": [
    {
     "name": "stdout",
     "output_type": "stream",
     "text": [
      "Train 0.8350764351305816\n",
      "Test 0.7604433675285278\n"
     ]
    }
   ],
   "source": [
    "# learning_rate:0.03, n_estimators: 3000, max_depth: 12\n",
    "lgbm_params2 = lgb.LGBMClassifier(learning_rate=0.03, n_estimators= 3000, max_depth= 12, verbosity = -1)\n",
    "lgbm_params2.fit(X_train, y_train)\n",
    "print('Train', roc_auc_score(y_train, lgbm_params2.predict_proba(X_train)[:, 1]))\n",
    "print('Test', roc_auc_score(y_test, lgbm_params2.predict_proba(X_test)[:, 1]))"
   ]
  },
  {
   "cell_type": "code",
   "execution_count": 25,
   "id": "5ff9a533-a2b5-49ce-8508-74f29df10a17",
   "metadata": {
    "scrolled": true
   },
   "outputs": [
    {
     "name": "stdout",
     "output_type": "stream",
     "text": [
      "learning_rate:0.03, n_estimators: 2000, max_depth: 5\n",
      "Test number 0 [0.7594931922798909, 0.7930977056588887]\n",
      "learning_rate:0.01, n_estimators: 3000, max_depth: 9\n",
      "Test number 1 [0.7619943748130169, 0.8734494269699737]\n",
      "learning_rate:0.05, n_estimators: 1000, max_depth: 12\n",
      "Test number 2 [0.7422257477673508, 0.9830276169344443]\n",
      "learning_rate:0.01, n_estimators: 1000, max_depth: 9\n",
      "Test number 3 [0.7583111766209832, 0.8275908512895171]\n",
      "learning_rate:0.01, n_estimators: 3000, max_depth: 12\n",
      "Test number 4 [0.7555114815781554, 0.9656475619924184]\n",
      "learning_rate:0.05, n_estimators: 1000, max_depth: 12\n",
      "Test number 5 [0.7422257477673508, 0.9830276169344443]\n",
      "learning_rate:0.03, n_estimators: 3000, max_depth: 5\n",
      "Test number 6 [0.7603930504370214, 0.8043179578179689]\n",
      "learning_rate:0.05, n_estimators: 2000, max_depth: 9\n",
      "Test number 7 [0.7528555778087725, 0.9463126717597031]\n",
      "learning_rate:0.05, n_estimators: 3000, max_depth: 5\n",
      "Test number 8 [0.760756571764475, 0.8227655752248237]\n",
      "learning_rate:0.03, n_estimators: 1000, max_depth: 12\n",
      "Test number 9 [0.7533856205325152, 0.9673386117284346]\n",
      "learning_rate:0.05, n_estimators: 3000, max_depth: 9\n",
      "Test number 10 [0.744485305092488, 0.9681979528183245]\n",
      "learning_rate:0.01, n_estimators: 3000, max_depth: 12\n",
      "Test number 11 [0.7555114815781554, 0.9656475619924184]\n",
      "learning_rate:0.05, n_estimators: 3000, max_depth: 9\n",
      "Test number 12 [0.744485305092488, 0.9681979528183245]\n",
      "learning_rate:0.03, n_estimators: 2000, max_depth: 5\n",
      "Test number 13 [0.7594931922798909, 0.7930977056588887]\n",
      "learning_rate:0.03, n_estimators: 3000, max_depth: 5\n",
      "Test number 14 [0.7603930504370214, 0.8043179578179689]\n",
      "Лучший результат: 0.7619943748130169\n"
     ]
    }
   ],
   "source": [
    "import random\n",
    "params =[\n",
    "    [0.01, 0.03, 0.05],\n",
    "    [1000, 2000, 3000],\n",
    "    [5, 9, 12]\n",
    "]\n",
    "num_iterations = 15\n",
    "param_nums=[]\n",
    "roc_aucs=[]\n",
    "for i in range(num_iterations):\n",
    "    learning_rate = random.choice(params[0])\n",
    "    n_estimators = random.choice(params[1])\n",
    "    max_depth = random.choice(params[2])\n",
    "    \n",
    "    xgb_search = xgb.XGBClassifier(learning_rate = learning_rate,\n",
    "                         n_estimators = n_estimators,\n",
    "                         max_depth = max_depth\n",
    "                        )\n",
    "\n",
    "    xgb_search.fit(X_train, y_train)\n",
    "    print(f'learning_rate:{learning_rate}, n_estimators: {n_estimators}, max_depth: {max_depth}')\n",
    "    res = [(roc_auc_score(y_test, xgb_search.predict_proba(X_test)[:, 1])), (roc_auc_score(y_train, xgb_search.predict_proba(X_train)[:, 1]))]\n",
    "    print('Test number', i, res)\n",
    "    roc_aucs.append(res)\n",
    "    param_nums.append([learning_rate, n_estimators,max_depth,res])\n",
    "    \n",
    "print(f'Лучший результат: {max(b[0] for b in roc_aucs)}')"
   ]
  },
  {
   "cell_type": "code",
   "execution_count": 27,
   "id": "b7c805a4-adb0-4179-ad34-2d7849684a7b",
   "metadata": {},
   "outputs": [
    {
     "name": "stdout",
     "output_type": "stream",
     "text": [
      "Train 0.8227655752248237\n",
      "Test 0.760756571764475\n"
     ]
    }
   ],
   "source": [
    "#learning_rate:0.05, n_estimators: 3000, max_depth: 5\n",
    "xgbc_params = xgb.XGBClassifier(learning_rate=0.05, n_estimators= 3000, max_depth= 5)\n",
    "xgbc_params.fit(X_train, y_train)\n",
    "print('Train', roc_auc_score(y_train, xgbc_params.predict_proba(X_train)[:, 1]))\n",
    "print('Test', roc_auc_score(y_test, xgbc_params.predict_proba(X_test)[:, 1]))"
   ]
  },
  {
   "cell_type": "code",
   "execution_count": 28,
   "id": "a90bf721-cdbb-4e4f-a0f0-042d4255015a",
   "metadata": {},
   "outputs": [
    {
     "name": "stdout",
     "output_type": "stream",
     "text": [
      "Train 0.8734494269699737\n",
      "Test 0.7619943748130169\n"
     ]
    }
   ],
   "source": [
    "#learning_rate:0.01, n_estimators: 3000, max_depth: 9\n",
    "xgbc_params2 = xgb.XGBClassifier(learning_rate=0.01, n_estimators= 3000, max_depth= 9)\n",
    "xgbc_params2.fit(X_train, y_train)\n",
    "print('Train', roc_auc_score(y_train, xgbc_params2.predict_proba(X_train)[:, 1]))\n",
    "print('Test', roc_auc_score(y_test, xgbc_params2.predict_proba(X_test)[:, 1]))\\\n",
    "\n"
   ]
  },
  {
   "cell_type": "code",
   "execution_count": 29,
   "id": "5a58b887-72e8-41b6-9662-72294bac03f9",
   "metadata": {},
   "outputs": [
    {
     "name": "stdout",
     "output_type": "stream",
     "text": [
      "learning_rate:0.1, iterations: 500, depth: 5\n",
      "Test number 0 [0.7533464541898325, 0.7599912105345181]\n",
      "learning_rate:0.03, iterations: 2000, depth: 9\n",
      "Test number 1 [0.7593660335391406, 0.7866381481822466]\n",
      "learning_rate:0.03, iterations: 1000, depth: 9\n",
      "Test number 2 [0.7562807046700771, 0.7732312004121744]\n",
      "learning_rate:0.03, iterations: 1000, depth: 5\n",
      "Test number 3 [0.7515611758196599, 0.7562057071691959]\n",
      "learning_rate:0.01, iterations: 2000, depth: 9\n",
      "Test number 4 [0.7546040166935473, 0.7676922705198728]\n",
      "learning_rate:0.07, iterations: 500, depth: 15\n",
      "Test number 5 [0.7482513010017051, 0.9397600186951003]\n",
      "learning_rate:0.07, iterations: 1000, depth: 5\n",
      "Test number 6 [0.7549494793892466, 0.7629455751852985]\n",
      "learning_rate:0.05, iterations: 2000, depth: 9\n",
      "Test number 7 [0.7605474138700651, 0.801207124105541]\n",
      "learning_rate:0.07, iterations: 500, depth: 9\n",
      "Test number 8 [0.7565585508785312, 0.7753096896233471]\n",
      "learning_rate:0.07, iterations: 500, depth: 15\n",
      "Test number 9 [0.7482513010017051, 0.9397600186951003]\n",
      "learning_rate:0.07, iterations: 2000, depth: 9\n",
      "Test number 10 [0.7606514806261913, 0.8134247039884972]\n",
      "learning_rate:0.1, iterations: 500, depth: 9\n",
      "Test number 11 [0.7575458212210777, 0.7825447993309426]\n",
      "learning_rate:0.05, iterations: 2000, depth: 12\n",
      "Test number 12 [0.7585965130760594, 0.8899905782347309]\n",
      "learning_rate:0.05, iterations: 1000, depth: 5\n",
      "Test number 13 [0.7539317126947188, 0.7602471685473223]\n",
      "learning_rate:0.01, iterations: 2000, depth: 5\n",
      "Test number 14 [0.748876757212166, 0.7530179801160866]\n",
      "Лучший результат: 0.7606514806261913\n"
     ]
    }
   ],
   "source": [
    "params =[\n",
    "    [0.01, 0.03, 0.05, 0.07, 0.1],\n",
    "    [500, 1000, 2000],\n",
    "    [5,9,12,15]\n",
    "]\n",
    "num_iterations = 15\n",
    "param_nums=[]\n",
    "roc_aucs=[]\n",
    "for i in range(num_iterations):\n",
    "    learning_rate = random.choice(params[0])\n",
    "    iterations = random.choice(params[1])\n",
    "    depth = random.choice(params[2])\n",
    "    #loss_function = random.choice(params[3])\n",
    "    \n",
    "    catb_search = CatBoostClassifier(learning_rate = learning_rate,\n",
    "                         iterations = iterations,\n",
    "                         depth = depth,\n",
    "                         random_state = 42,\n",
    "                         verbose = 0\n",
    "                        )\n",
    "\n",
    "    catb_search.fit(X_train, y_train)\n",
    "    print(f'learning_rate:{learning_rate}, iterations: {iterations}, depth: {depth}')\n",
    "    res = [(roc_auc_score(y_test, catb_search.predict_proba(X_test)[:, 1])), (roc_auc_score(y_train, catb_search.predict_proba(X_train)[:, 1]))]\n",
    "    print('Test number', i, res)\n",
    "    roc_aucs.append(res)\n",
    "    param_nums.append([learning_rate, iterations,depth, res])\n",
    "    \n",
    "print(f'Лучший результат: {max(b[0] for b in roc_aucs)}')"
   ]
  },
  {
   "cell_type": "code",
   "execution_count": 37,
   "id": "06a342b1-d3db-4b55-ba81-f8365b713f2b",
   "metadata": {},
   "outputs": [
    {
     "name": "stdout",
     "output_type": "stream",
     "text": [
      "Train 0.8134247039884972\n",
      "Test 0.7606514806261913\n"
     ]
    }
   ],
   "source": [
    "#learning_rate:0.07, iterations: 2000, depth: 9\n",
    "catb_params = CatBoostClassifier(random_state=42, verbose = 0, learning_rate=0.07, iterations= 2000, depth= 9)\n",
    "catb_params.fit(X_train, y_train)\n",
    "print('Train', roc_auc_score(y_train, catb_params.predict_proba(X_train)[:, 1]))\n",
    "print('Test', roc_auc_score(y_test, catb_params.predict_proba(X_test)[:, 1]))"
   ]
  },
  {
   "cell_type": "code",
   "execution_count": 39,
   "id": "9812dbff-a6f3-4d11-a53d-97ee631abec5",
   "metadata": {},
   "outputs": [
    {
     "name": "stdout",
     "output_type": "stream",
     "text": [
      "Train 0.801207124105541\n",
      "Test 0.7605474138700651\n"
     ]
    }
   ],
   "source": [
    "# learning_rate:0.05, iterations: 2000, depth: 9\n",
    "catb_params2 = CatBoostClassifier(random_state=42, verbose = 0, learning_rate=0.05, iterations= 2000, depth= 9)\n",
    "catb_params2.fit(X_train, y_train)\n",
    "print('Train', roc_auc_score(y_train, catb_params2.predict_proba(X_train)[:, 1]))\n",
    "print('Test', roc_auc_score(y_test, catb_params2.predict_proba(X_test)[:, 1]))"
   ]
  },
  {
   "cell_type": "code",
   "execution_count": 43,
   "id": "d9f6643c-9193-4655-a896-a185c87eee6e",
   "metadata": {},
   "outputs": [
    {
     "name": "stdout",
     "output_type": "stream",
     "text": [
      "(851540, 315)\n",
      "(85154, 315)\n"
     ]
    }
   ],
   "source": [
    "# Балансировка - Downsampling\n",
    "\n",
    "df_min = df_train[df_train['flag'] == 1]\n",
    "df_maj = df_train[df_train['flag'] == 0]\n",
    "\n",
    "df_maj_downsample = resample(df_maj, replace=False, n_samples=len(df_min)*10, random_state=42)\n",
    "\n",
    "print(df_maj_downsample.shape)\n",
    "print(df_min.shape)\n",
    "df_2 = pd.concat([df_maj_downsample, df_min], ignore_index=True).sample(frac=1.)\n",
    "\n",
    "X_train_down, y_train_down = df_2.drop('flag', axis = 1), df_2['flag']"
   ]
  },
  {
   "cell_type": "code",
   "execution_count": 45,
   "id": "e24e59d7-7810-42b8-b385-4715c6003f4e",
   "metadata": {},
   "outputs": [
    {
     "name": "stdout",
     "output_type": "stream",
     "text": [
      "Train 0.7927692500992204\n",
      "Test 0.7548625267147179\n"
     ]
    }
   ],
   "source": [
    "xgbc_down = xgb.XGBClassifier()\n",
    "xgbc_down.fit(X_train_down, y_train_down)\n",
    "print('Train', roc_auc_score(y_train_down, xgbc_down.predict_proba(X_train_down)[:, 1]))\n",
    "print('Test', roc_auc_score(y_test, xgbc_down.predict_proba(X_test)[:, 1]))"
   ]
  },
  {
   "cell_type": "code",
   "execution_count": 47,
   "id": "1c717d38-c8dd-4f1b-9a0b-4505bb136fd5",
   "metadata": {
    "scrolled": true
   },
   "outputs": [
    {
     "name": "stdout",
     "output_type": "stream",
     "text": [
      "Train 0.7651910130806205\n",
      "Test 0.7541398423107472\n"
     ]
    }
   ],
   "source": [
    "lgbm_down = lgb.LGBMClassifier()\n",
    "lgbm_down.fit(X_train_down, y_train_down)\n",
    "print('Train', roc_auc_score(y_train_down, lgbm_down.predict_proba(X_train_down)[:, 1]))\n",
    "print('Test', roc_auc_score(y_test, lgbm_down.predict_proba(X_test)[:, 1]))"
   ]
  },
  {
   "cell_type": "markdown",
   "id": "65727cce-bb70-4158-a1fb-57db9551380e",
   "metadata": {},
   "source": [
    "**Комментарий**\n",
    "\n",
    "Видно, что downsampling не дает никаких значимых улучшений на сетях с дефолтными параметрами относительно таких же сетей, обученных на полном датасете. \n",
    "Поэтому надежнее будет обучаться на полном датасете без downsampling."
   ]
  },
  {
   "cell_type": "code",
   "execution_count": 51,
   "id": "b53ea1bd-6c96-427e-a7a3-da2e0bbe40da",
   "metadata": {},
   "outputs": [],
   "source": [
    "models = [lgbm_params,  lgbm_params2, xgbc_params, xgbc_params2,catb_params, catb_params2]"
   ]
  },
  {
   "cell_type": "code",
   "execution_count": 53,
   "id": "5a59f4bf-b66a-4346-a7e7-debbaa35b659",
   "metadata": {},
   "outputs": [],
   "source": [
    "# Создадим функцию, которая собирает predict_proba ото всех моделей в один датафрейм с target\n",
    "# принимает список моделей и датасет, для которого нужно посчитать predict_proba\n",
    "def concat_preds(models_list, x_data, y_data):\n",
    "    df_concat = pd.DataFrame()\n",
    "    df_concat['target'] = pd.DataFrame(y_data, index = y_data.index)\n",
    "    for i in range(len(models_list)):\n",
    "        name = 'model_' + str(i)\n",
    "        df_concat[name] =  pd.DataFrame(models_list[i].predict_proba(x_data)[:, 1], index = x_data.index)\n",
    "    df_concat = df_concat.drop('target', axis = 1)\n",
    "    return df_concat"
   ]
  },
  {
   "cell_type": "code",
   "execution_count": 55,
   "id": "1067dd4f-6d60-43ad-b41f-139a9def2af0",
   "metadata": {},
   "outputs": [
    {
     "data": {
      "text/html": [
       "<div>\n",
       "<style scoped>\n",
       "    .dataframe tbody tr th:only-of-type {\n",
       "        vertical-align: middle;\n",
       "    }\n",
       "\n",
       "    .dataframe tbody tr th {\n",
       "        vertical-align: top;\n",
       "    }\n",
       "\n",
       "    .dataframe thead th {\n",
       "        text-align: right;\n",
       "    }\n",
       "</style>\n",
       "<table border=\"1\" class=\"dataframe\">\n",
       "  <thead>\n",
       "    <tr style=\"text-align: right;\">\n",
       "      <th></th>\n",
       "      <th>model_0</th>\n",
       "      <th>model_1</th>\n",
       "      <th>model_2</th>\n",
       "      <th>model_3</th>\n",
       "      <th>model_4</th>\n",
       "      <th>model_5</th>\n",
       "    </tr>\n",
       "  </thead>\n",
       "  <tbody>\n",
       "    <tr>\n",
       "      <th>1679350</th>\n",
       "      <td>0.016800</td>\n",
       "      <td>0.016862</td>\n",
       "      <td>0.016114</td>\n",
       "      <td>0.016212</td>\n",
       "      <td>0.014676</td>\n",
       "      <td>0.017901</td>\n",
       "    </tr>\n",
       "    <tr>\n",
       "      <th>385353</th>\n",
       "      <td>0.010856</td>\n",
       "      <td>0.010227</td>\n",
       "      <td>0.010593</td>\n",
       "      <td>0.011846</td>\n",
       "      <td>0.011407</td>\n",
       "      <td>0.011933</td>\n",
       "    </tr>\n",
       "    <tr>\n",
       "      <th>2137282</th>\n",
       "      <td>0.057073</td>\n",
       "      <td>0.076651</td>\n",
       "      <td>0.087243</td>\n",
       "      <td>0.065408</td>\n",
       "      <td>0.085347</td>\n",
       "      <td>0.063499</td>\n",
       "    </tr>\n",
       "    <tr>\n",
       "      <th>896053</th>\n",
       "      <td>0.048449</td>\n",
       "      <td>0.052035</td>\n",
       "      <td>0.045918</td>\n",
       "      <td>0.044282</td>\n",
       "      <td>0.044912</td>\n",
       "      <td>0.049687</td>\n",
       "    </tr>\n",
       "    <tr>\n",
       "      <th>2824317</th>\n",
       "      <td>0.058286</td>\n",
       "      <td>0.057235</td>\n",
       "      <td>0.048759</td>\n",
       "      <td>0.062458</td>\n",
       "      <td>0.057794</td>\n",
       "      <td>0.058169</td>\n",
       "    </tr>\n",
       "    <tr>\n",
       "      <th>...</th>\n",
       "      <td>...</td>\n",
       "      <td>...</td>\n",
       "      <td>...</td>\n",
       "      <td>...</td>\n",
       "      <td>...</td>\n",
       "      <td>...</td>\n",
       "    </tr>\n",
       "    <tr>\n",
       "      <th>1567263</th>\n",
       "      <td>0.080318</td>\n",
       "      <td>0.079402</td>\n",
       "      <td>0.079717</td>\n",
       "      <td>0.089144</td>\n",
       "      <td>0.093278</td>\n",
       "      <td>0.111644</td>\n",
       "    </tr>\n",
       "    <tr>\n",
       "      <th>2359992</th>\n",
       "      <td>0.022177</td>\n",
       "      <td>0.022427</td>\n",
       "      <td>0.023625</td>\n",
       "      <td>0.018691</td>\n",
       "      <td>0.021443</td>\n",
       "      <td>0.023752</td>\n",
       "    </tr>\n",
       "    <tr>\n",
       "      <th>410308</th>\n",
       "      <td>0.010111</td>\n",
       "      <td>0.007110</td>\n",
       "      <td>0.005289</td>\n",
       "      <td>0.005479</td>\n",
       "      <td>0.011597</td>\n",
       "      <td>0.009659</td>\n",
       "    </tr>\n",
       "    <tr>\n",
       "      <th>2452516</th>\n",
       "      <td>0.010836</td>\n",
       "      <td>0.010793</td>\n",
       "      <td>0.009925</td>\n",
       "      <td>0.010305</td>\n",
       "      <td>0.012926</td>\n",
       "      <td>0.011674</td>\n",
       "    </tr>\n",
       "    <tr>\n",
       "      <th>1555722</th>\n",
       "      <td>0.010811</td>\n",
       "      <td>0.011298</td>\n",
       "      <td>0.010448</td>\n",
       "      <td>0.010412</td>\n",
       "      <td>0.011716</td>\n",
       "      <td>0.010862</td>\n",
       "    </tr>\n",
       "  </tbody>\n",
       "</table>\n",
       "<p>600000 rows × 6 columns</p>\n",
       "</div>"
      ],
      "text/plain": [
       "          model_0   model_1   model_2   model_3   model_4   model_5\n",
       "1679350  0.016800  0.016862  0.016114  0.016212  0.014676  0.017901\n",
       "385353   0.010856  0.010227  0.010593  0.011846  0.011407  0.011933\n",
       "2137282  0.057073  0.076651  0.087243  0.065408  0.085347  0.063499\n",
       "896053   0.048449  0.052035  0.045918  0.044282  0.044912  0.049687\n",
       "2824317  0.058286  0.057235  0.048759  0.062458  0.057794  0.058169\n",
       "...           ...       ...       ...       ...       ...       ...\n",
       "1567263  0.080318  0.079402  0.079717  0.089144  0.093278  0.111644\n",
       "2359992  0.022177  0.022427  0.023625  0.018691  0.021443  0.023752\n",
       "410308   0.010111  0.007110  0.005289  0.005479  0.011597  0.009659\n",
       "2452516  0.010836  0.010793  0.009925  0.010305  0.012926  0.011674\n",
       "1555722  0.010811  0.011298  0.010448  0.010412  0.011716  0.010862\n",
       "\n",
       "[600000 rows x 6 columns]"
      ]
     },
     "execution_count": 55,
     "metadata": {},
     "output_type": "execute_result"
    }
   ],
   "source": [
    "dfpred_train = concat_preds(models, X_train, y_train)\n",
    "dfpred_test =  concat_preds(models, X_test, y_test)\n",
    "dfpred_test"
   ]
  },
  {
   "cell_type": "code",
   "execution_count": 61,
   "id": "5627efc3-38c7-4d49-af5d-da9abf3f22e3",
   "metadata": {},
   "outputs": [
    {
     "data": {
      "text/html": [
       "<div>\n",
       "<style scoped>\n",
       "    .dataframe tbody tr th:only-of-type {\n",
       "        vertical-align: middle;\n",
       "    }\n",
       "\n",
       "    .dataframe tbody tr th {\n",
       "        vertical-align: top;\n",
       "    }\n",
       "\n",
       "    .dataframe thead th {\n",
       "        text-align: right;\n",
       "    }\n",
       "</style>\n",
       "<table border=\"1\" class=\"dataframe\">\n",
       "  <thead>\n",
       "    <tr style=\"text-align: right;\">\n",
       "      <th></th>\n",
       "      <th>model_0</th>\n",
       "      <th>model_1</th>\n",
       "      <th>model_2</th>\n",
       "      <th>model_3</th>\n",
       "      <th>model_4</th>\n",
       "      <th>model_5</th>\n",
       "      <th>mean</th>\n",
       "    </tr>\n",
       "  </thead>\n",
       "  <tbody>\n",
       "    <tr>\n",
       "      <th>1679350</th>\n",
       "      <td>0.016800</td>\n",
       "      <td>0.016862</td>\n",
       "      <td>0.016114</td>\n",
       "      <td>0.016212</td>\n",
       "      <td>0.014676</td>\n",
       "      <td>0.017901</td>\n",
       "      <td>0.016428</td>\n",
       "    </tr>\n",
       "    <tr>\n",
       "      <th>385353</th>\n",
       "      <td>0.010856</td>\n",
       "      <td>0.010227</td>\n",
       "      <td>0.010593</td>\n",
       "      <td>0.011846</td>\n",
       "      <td>0.011407</td>\n",
       "      <td>0.011933</td>\n",
       "      <td>0.011143</td>\n",
       "    </tr>\n",
       "    <tr>\n",
       "      <th>2137282</th>\n",
       "      <td>0.057073</td>\n",
       "      <td>0.076651</td>\n",
       "      <td>0.087243</td>\n",
       "      <td>0.065408</td>\n",
       "      <td>0.085347</td>\n",
       "      <td>0.063499</td>\n",
       "      <td>0.072537</td>\n",
       "    </tr>\n",
       "    <tr>\n",
       "      <th>896053</th>\n",
       "      <td>0.048449</td>\n",
       "      <td>0.052035</td>\n",
       "      <td>0.045918</td>\n",
       "      <td>0.044282</td>\n",
       "      <td>0.044912</td>\n",
       "      <td>0.049687</td>\n",
       "      <td>0.047547</td>\n",
       "    </tr>\n",
       "    <tr>\n",
       "      <th>2824317</th>\n",
       "      <td>0.058286</td>\n",
       "      <td>0.057235</td>\n",
       "      <td>0.048759</td>\n",
       "      <td>0.062458</td>\n",
       "      <td>0.057794</td>\n",
       "      <td>0.058169</td>\n",
       "      <td>0.057117</td>\n",
       "    </tr>\n",
       "  </tbody>\n",
       "</table>\n",
       "</div>"
      ],
      "text/plain": [
       "          model_0   model_1   model_2   model_3   model_4   model_5      mean\n",
       "1679350  0.016800  0.016862  0.016114  0.016212  0.014676  0.017901  0.016428\n",
       "385353   0.010856  0.010227  0.010593  0.011846  0.011407  0.011933  0.011143\n",
       "2137282  0.057073  0.076651  0.087243  0.065408  0.085347  0.063499  0.072537\n",
       "896053   0.048449  0.052035  0.045918  0.044282  0.044912  0.049687  0.047547\n",
       "2824317  0.058286  0.057235  0.048759  0.062458  0.057794  0.058169  0.057117"
      ]
     },
     "execution_count": 61,
     "metadata": {},
     "output_type": "execute_result"
    }
   ],
   "source": [
    "def mean_count(row, datafr):\n",
    "    probs_sum = 0\n",
    "    for col in datafr.columns:\n",
    "        probs_sum+=row[col]\n",
    "    return  probs_sum / (datafr.shape[1])\n",
    "dfpred_train['mean'] = dfpred_train.apply(lambda x: mean_count(x, dfpred_train), axis = 1)\n",
    "dfpred_test['mean'] = dfpred_test.apply(lambda x: mean_count(x, dfpred_test), axis = 1)\n",
    "dfpred_test.head()"
   ]
  },
  {
   "cell_type": "code",
   "execution_count": 62,
   "id": "dfe87679-6f52-4ca3-b72b-e057ced650d9",
   "metadata": {},
   "outputs": [
    {
     "name": "stdout",
     "output_type": "stream",
     "text": [
      "Train 0.8417153428260082\n",
      "Test 0.7637745638221034\n"
     ]
    }
   ],
   "source": [
    "print('Train', roc_auc_score(y_train, dfpred_train['mean']))\n",
    "print('Test', roc_auc_score(y_test, dfpred_test['mean']))"
   ]
  },
  {
   "cell_type": "code",
   "execution_count": null,
   "id": "d0b5d99e-766d-414c-89dd-97c3c7764e08",
   "metadata": {},
   "outputs": [],
   "source": []
  }
 ],
 "metadata": {
  "kernelspec": {
   "display_name": "Python 3 (ipykernel)",
   "language": "python",
   "name": "python3"
  },
  "language_info": {
   "codemirror_mode": {
    "name": "ipython",
    "version": 3
   },
   "file_extension": ".py",
   "mimetype": "text/x-python",
   "name": "python",
   "nbconvert_exporter": "python",
   "pygments_lexer": "ipython3",
   "version": "3.11.7"
  }
 },
 "nbformat": 4,
 "nbformat_minor": 5
}
